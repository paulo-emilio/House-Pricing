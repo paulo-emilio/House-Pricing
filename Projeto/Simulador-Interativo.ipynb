{
 "cells": [
  {
   "cell_type": "markdown",
   "metadata": {},
   "source": [
    "<h1 style='color: green; font-size: 36px; font-weight: bold;'>Simulador Interativo</h1>\n",
    "\n",
    "***"
   ]
  },
  {
   "cell_type": "code",
   "execution_count": 1,
   "metadata": {},
   "outputs": [],
   "source": [
    "import warnings\n",
    "warnings.filterwarnings('ignore', category=UserWarning, module='sklearn')"
   ]
  },
  {
   "cell_type": "markdown",
   "metadata": {},
   "source": [
    "## Importando modelo"
   ]
  },
  {
   "cell_type": "code",
   "execution_count": 2,
   "metadata": {},
   "outputs": [
    {
     "name": "stdout",
     "output_type": "stream",
     "text": [
      "$ 33992.0\n"
     ]
    }
   ],
   "source": [
    "import pickle\n",
    "\n",
    "modelo = open('modelo/modelo_preco','rb')\n",
    "lm_new = pickle.load(modelo)\n",
    "modelo.close()\n",
    "\n",
    "Floors = 1\n",
    "City = 1\n",
    "Fiber = 0\n",
    "White_Marble = 0\n",
    "Black_Marble = 0\n",
    "Indian_Marble = 1\n",
    "\n",
    "entrada = [[Floors,City,Fiber,White_Marble,Black_Marble,Indian_Marble]]\n",
    "\n",
    "print(f'$ {lm_new.predict(entrada)[0].round(2)}')"
   ]
  },
  {
   "cell_type": "markdown",
   "metadata": {},
   "source": [
    "## Simulador interativo Preços de Casas"
   ]
  },
  {
   "cell_type": "code",
   "execution_count": 5,
   "metadata": {},
   "outputs": [],
   "source": [
    "from ipywidgets import widgets, HBox, VBox\n",
    "from IPython.display import display\n",
    "\n",
    "# Criando os controles do formulário\n",
    "Floors = widgets.FloatText(description=\"Andares:\")\n",
    "City = widgets.FloatText(description=\"Cidade:\")\n",
    "Fiber = widgets.FloatText(description=\"Fibra:\")\n",
    "White_Marble = widgets.FloatText(description=\"M. Branco:\")\n",
    "Black_Marble = widgets.FloatText(description=\"M. Preto:\")\n",
    "Indian_Marble = widgets.FloatText(description=\"M. Indiano:\")\n",
    "botao = widgets.Button(description=\"Simular\")\n",
    "\n",
    "# Posicionando os controles\n",
    "left = VBox([Floors, City, Fiber, White_Marble, Black_Marble, Indian_Marble])\n",
    "inputs = HBox([left])\n",
    "\n",
    "# Função de simulação\n",
    "def simulador(sender):\n",
    "    print(\"Simulação iniciada\")\n",
    "    entrada = [[\n",
    "        White_Marble.value,\n",
    "        Black_Marble.value,\n",
    "        Indian_Marble.value,\n",
    "        Floors.value,\n",
    "        City.value,\n",
    "        Fiber.value\n",
    "    ]]\n",
    "    print(\"Entrada para o modelo:\", entrada)\n",
    "    resultado = lm_new.predict(entrada)\n",
    "    print('O preço estimado da casa é de: $ {0:.2f}'.format(resultado[0]))\n",
    "\n",
    "# Atribuindo a função \"simulador\" ao evento click do botão\n",
    "botao.on_click(simulador)"
   ]
  },
  {
   "cell_type": "markdown",
   "metadata": {},
   "source": [
    "<h1 style='color: green; font-size: 30px; font-weight: bold;'>Simulação de Preços de Casa com Base em Dados de Entrada</h1>\n",
    "<h1 style='color: green; font-size: 22px;'>(Use \"0\" para \"Não\" e \"1\" para \"Sim\" nas variáveis categóricas)</h1>\n",
    "\n",
    "***"
   ]
  },
  {
   "cell_type": "code",
   "execution_count": 6,
   "metadata": {},
   "outputs": [
    {
     "data": {
      "application/vnd.jupyter.widget-view+json": {
       "model_id": "7c8927a237ba4a7ea8722984a8a3a4bd",
       "version_major": 2,
       "version_minor": 0
      },
      "text/plain": [
       "HBox(children=(VBox(children=(FloatText(value=0.0, description='Andares:'), FloatText(value=0.0, description='…"
      ]
     },
     "metadata": {},
     "output_type": "display_data"
    },
    {
     "data": {
      "application/vnd.jupyter.widget-view+json": {
       "model_id": "c38019e6b76f46d88cb88370fc20cab2",
       "version_major": 2,
       "version_minor": 0
      },
      "text/plain": [
       "Button(description='Simular', style=ButtonStyle())"
      ]
     },
     "metadata": {},
     "output_type": "display_data"
    }
   ],
   "source": [
    "display(inputs, botao)"
   ]
  },
  {
   "cell_type": "markdown",
   "metadata": {},
   "source": [
    " "
   ]
  },
  {
   "cell_type": "markdown",
   "metadata": {},
   "source": [
    " "
   ]
  },
  {
   "cell_type": "markdown",
   "metadata": {},
   "source": [
    " "
   ]
  }
 ],
 "metadata": {
  "kernelspec": {
   "display_name": "Python 3 (ipykernel)",
   "language": "python",
   "name": "python3"
  },
  "language_info": {
   "codemirror_mode": {
    "name": "ipython",
    "version": 3
   },
   "file_extension": ".py",
   "mimetype": "text/x-python",
   "name": "python",
   "nbconvert_exporter": "python",
   "pygments_lexer": "ipython3",
   "version": "3.11.7"
  }
 },
 "nbformat": 4,
 "nbformat_minor": 4
}
