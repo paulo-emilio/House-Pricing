{
 "cells": [
  {
   "cell_type": "code",
   "execution_count": 2,
   "id": "164d52fa",
   "metadata": {},
   "outputs": [
    {
     "name": "stdout",
     "output_type": "stream",
     "text": [
      "Foram selecionadas aleatoriamente 5000 linhas e salvas em Amostra-HousePrices_HalfMil.csv.\n"
     ]
    }
   ],
   "source": [
    "import pandas as pd\n",
    "import random\n",
    "\n",
    "# Lendo o arquivo CSV original\n",
    "original_file = 'HousePrices_HalfMil.csv'\n",
    "df = pd.read_csv(original_file)\n",
    "\n",
    "# número de valores que você deseja selecionar aleatoriamente\n",
    "n = 5000\n",
    "\n",
    "# número de valores aleatórios não excede o tamanho do DataFrame\n",
    "if n > len(df):\n",
    "    n = len(df)\n",
    "\n",
    "# n linhas aleatoriamente\n",
    "random_indices = random.sample(range(len(df)), n)\n",
    "random_sample = df.iloc[random_indices]\n",
    "\n",
    "# Salvando\n",
    "output_file = 'Amostra-HousePrices_HalfMil.csv'\n",
    "random_sample.to_csv(output_file, index=False)\n",
    "\n",
    "print(f\"Foram selecionadas aleatoriamente {n} linhas e salvas em {output_file}.\")"
   ]
  },
  {
   "cell_type": "code",
   "execution_count": null,
   "id": "8f97ba17",
   "metadata": {},
   "outputs": [],
   "source": []
  }
 ],
 "metadata": {
  "kernelspec": {
   "display_name": "Python 3 (ipykernel)",
   "language": "python",
   "name": "python3"
  },
  "language_info": {
   "codemirror_mode": {
    "name": "ipython",
    "version": 3
   },
   "file_extension": ".py",
   "mimetype": "text/x-python",
   "name": "python",
   "nbconvert_exporter": "python",
   "pygments_lexer": "ipython3",
   "version": "3.11.4"
  }
 },
 "nbformat": 4,
 "nbformat_minor": 5
}
